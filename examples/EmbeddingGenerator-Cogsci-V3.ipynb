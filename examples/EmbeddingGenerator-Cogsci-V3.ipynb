{
 "cells": [
  {
   "cell_type": "markdown",
   "metadata": {},
   "source": [
    "# Generating Sentences with TreeRNNs\n",
    "\n",
    "This notebook goes through a minimal example of encoding one sentence into a distributed representation using a TreeRNN, and the using this distributed representation to generate another sentence using a different TreeRNN in reverse. To start, we'll do some data cleaning to make sure we have a good set of sentence pairs to train on. The main goal here is to remove sentences with mispelled words and oddities."
   ]
  },
  {
   "cell_type": "code",
   "execution_count": 1,
   "metadata": {
    "collapsed": false
   },
   "outputs": [],
   "source": [
    "import enchant \n",
    "import random\n",
    "import pickle\n",
    "import numpy as np\n",
    "\n",
    "from collections import namedtuple\n",
    "from pysem.corpora import SNLI\n",
    "from pysem.networks import DependencyNetwork\n",
    "from pysem.generatives import EmbeddingGenerator, EncoderDecoder\n",
    "\n",
    "checker = enchant.Dict('en_US')\n",
    "TrainingPair = namedtuple('TrainingPair', ['sentence1', 'sentence2', 'label'])\n",
    "\n",
    "snli = SNLI('/home/pblouw/snli_1.0/')\n",
    "snli.load_xy_pairs()\n",
    "\n",
    "def repair(sen):\n",
    "    tokens = DependencyNetwork.parser(sen)\n",
    "    if len(tokens) > 15:\n",
    "        return None\n",
    "    for token in tokens:\n",
    "        if not checker.check(token.text):\n",
    "            return None\n",
    "    return sen\n",
    "\n",
    "def clean_data(data):\n",
    "    clean = []\n",
    "    for item in data:\n",
    "        s1 = repair(item.sentence1)\n",
    "        s2 = repair(item.sentence2)\n",
    "        if s1 == None or s2 == None:\n",
    "            continue\n",
    "        else:\n",
    "            clean.append(TrainingPair(s1, s2, item.label))\n",
    "    return clean\n",
    "\n",
    "def build_vocab(data):\n",
    "    vocab = set()\n",
    "    for item in data:\n",
    "        parse1 = DependencyNetwork.parser(item.sentence1)\n",
    "        parse2 = DependencyNetwork.parser(item.sentence2)\n",
    "        \n",
    "        for p in parse1:\n",
    "            if p.text not in vocab:\n",
    "                vocab.add(p.text)\n",
    "        \n",
    "        for p in parse2:\n",
    "            if p.text not in vocab:\n",
    "                vocab.add(p.text)\n",
    "\n",
    "    return sorted(list(vocab))"
   ]
  },
  {
   "cell_type": "code",
   "execution_count": 2,
   "metadata": {
    "collapsed": false
   },
   "outputs": [],
   "source": [
    "clean_dev = clean_data(snli.dev_data)\n",
    "clean_train = clean_data(snli.train_data)\n",
    "clean_test = clean_data(snli.test_data)"
   ]
  },
  {
   "cell_type": "markdown",
   "metadata": {},
   "source": [
    "Next, we'll build a vocab from the set of cleaned sentence pairs. "
   ]
  },
  {
   "cell_type": "code",
   "execution_count": 3,
   "metadata": {
    "collapsed": false
   },
   "outputs": [],
   "source": [
    "data = clean_dev + clean_test + clean_train\n",
    "vocab = build_vocab(data)"
   ]
  },
  {
   "cell_type": "code",
   "execution_count": 4,
   "metadata": {
    "collapsed": false
   },
   "outputs": [
    {
     "name": "stdout",
     "output_type": "stream",
     "text": [
      "22555\n"
     ]
    }
   ],
   "source": [
    "print(len(vocab))"
   ]
  },
  {
   "cell_type": "markdown",
   "metadata": {},
   "source": [
    "Now we can collect all of the sentence pairs standing in entailment relations to one another."
   ]
  },
  {
   "cell_type": "code",
   "execution_count": 5,
   "metadata": {
    "collapsed": false
   },
   "outputs": [
    {
     "name": "stdout",
     "output_type": "stream",
     "text": [
      "106288\n",
      "1666\n",
      "1701\n"
     ]
    }
   ],
   "source": [
    "train_data = [d for d in clean_train if d.label == 'entailment']\n",
    "test_data = [d for d in clean_test if d.label == 'entailment']\n",
    "dev_data = [d for d in clean_dev if d.label == 'entailment']\n",
    "\n",
    "print(len(train_data))\n",
    "print(len(test_data))\n",
    "print(len(dev_data))"
   ]
  },
  {
   "cell_type": "code",
   "execution_count": 7,
   "metadata": {
    "collapsed": false
   },
   "outputs": [
    {
     "name": "stdout",
     "output_type": "stream",
     "text": [
      "On iteration  0\n",
      "On iteration  1\n",
      "On iteration  2\n",
      "On iteration  3\n",
      "Learning rate annealed to  0.0001\n",
      "On iteration  4\n",
      "On iteration  5\n",
      "On iteration  6\n",
      "Learning rate annealed to  5e-05\n",
      "On iteration  7\n",
      "On iteration  8\n",
      "On iteration  9\n",
      "Learning rate annealed to  2.5e-05\n"
     ]
    }
   ],
   "source": [
    "dim = 300\n",
    "iters = 10\n",
    "rate = 0.0002\n",
    "\n",
    "vectors = 'w2v_embeddings.pickle'\n",
    "\n",
    "with open('w2v_dep_vocabs.pickle', 'rb') as pfile:\n",
    "    subvocabs = pickle.load(pfile)\n",
    "\n",
    "encoder = DependencyNetwork(dim=dim, vocab=vocab, pretrained=vectors)\n",
    "decoder = EmbeddingGenerator(dim=dim, subvocabs=subvocabs, vectors=vectors)\n",
    "\n",
    "model = EncoderDecoder(encoder=encoder, decoder=decoder, data=train_data)\n",
    "model.train(iters=iters, rate=rate, schedule=3)"
   ]
  },
  {
   "cell_type": "code",
   "execution_count": 8,
   "metadata": {
    "collapsed": false
   },
   "outputs": [
    {
     "name": "stdout",
     "output_type": "stream",
     "text": [
      "TrainingPair(sentence1='Five girls are leaping simultaneously in a dance practice room.', sentence2='The girls are dancing.', label='entailment')\n"
     ]
    },
    {
     "data": {
      "text/plain": [
       "'the girls are are .'"
      ]
     },
     "execution_count": 8,
     "metadata": {},
     "output_type": "execute_result"
    }
   ],
   "source": [
    "sample = random.choice(train_data)\n",
    "\n",
    "print(sample)\n",
    "\n",
    "model.encode(sample.sentence1)\n",
    "model.decode(sample.sentence2)"
   ]
  },
  {
   "cell_type": "code",
   "execution_count": 9,
   "metadata": {
    "collapsed": false
   },
   "outputs": [
    {
     "name": "stdout",
     "output_type": "stream",
     "text": [
      "0.658858210436717\n",
      "0.6060580774365821\n"
     ]
    }
   ],
   "source": [
    "def compute_accuracy(data, model):\n",
    "    total = 0 \n",
    "    correct = 0\n",
    "\n",
    "    for item in data:\n",
    "        model.encoder.forward_pass(item.sentence1)\n",
    "        model.decoder.forward_pass(item.sentence2, model.encoder.get_root_embedding())\n",
    "\n",
    "        for node in model.decoder.tree:\n",
    "            total += 1\n",
    "            if node.pword.lower() == node.lower_:\n",
    "                correct += 1\n",
    "\n",
    "    return float(correct / total)\n",
    "\n",
    "print(compute_accuracy(train_data, model))\n",
    "print(compute_accuracy(dev_data, model))"
   ]
  },
  {
   "cell_type": "code",
   "execution_count": 10,
   "metadata": {
    "collapsed": true
   },
   "outputs": [],
   "source": [
    "model.save('enc_model_0002.pickle','dec_model_0002.pickle')"
   ]
  },
  {
   "cell_type": "code",
   "execution_count": 20,
   "metadata": {
    "collapsed": false
   },
   "outputs": [
    {
     "name": "stdout",
     "output_type": "stream",
     "text": [
      "0.658858210436717\n",
      "0.6060580774365821\n"
     ]
    }
   ],
   "source": [
    "test_model = EncoderDecoder(encoder=None, decoder=None, data=train_data)\n",
    "test_model.load('enc_model_0002.pickle','dec_model_0002.pickle')\n",
    "\n",
    "print(compute_accuracy(train_data, test_model))\n",
    "print(compute_accuracy(dev_data, test_model))"
   ]
  },
  {
   "cell_type": "markdown",
   "metadata": {},
   "source": [
    "## Simple Entailment Generation Examples\n",
    "\n",
    "This small amount of data probably isn't enough to generalize outside of the training set, so we'll first check how well the learned decoder is able to generate the entailments it has been trained on."
   ]
  },
  {
   "cell_type": "code",
   "execution_count": 11,
   "metadata": {
    "collapsed": false
   },
   "outputs": [
    {
     "name": "stdout",
     "output_type": "stream",
     "text": [
      "Sentence:  A line of workers walking down stairs.\n",
      "Actual Entailment:  Many people are on the stairs.\n",
      "Predicted Entailment:  several people walking of the stairs .\n",
      "\n",
      "Sentence:  There are red balloons inside an eating establishment.\n",
      "Actual Entailment:  Red balloons inside.\n",
      "Predicted Entailment:  red are inside .\n",
      "\n",
      "Sentence:  A girl hands from a wooden deck.\n",
      "Actual Entailment:  The child hands from a wooden deck.\n",
      "Predicted Entailment:  a girl is on a wooden deck .\n",
      "\n",
      "Sentence:  A boy does a cartwheel on a rock cliff.\n",
      "Actual Entailment:  A boy does a cartwheel.\n",
      "Predicted Entailment:  a boy is a trick .\n",
      "\n",
      "Sentence:  A baker is making food at a kitchen counter.\n",
      "Actual Entailment:  A baker is preparing food.\n",
      "Predicted Entailment:  a person is making food .\n",
      "\n"
     ]
    }
   ],
   "source": [
    "batch = random.sample(train_data, 5)\n",
    "\n",
    "for sample in batch:\n",
    "    model.encode(sample.sentence1)\n",
    "\n",
    "    print('Sentence: ', sample.sentence1)\n",
    "    print('Actual Entailment: ', sample.sentence2)\n",
    "    print('Predicted Entailment: ', model.decode(sample.sentence2))\n",
    "    print('')"
   ]
  },
  {
   "cell_type": "markdown",
   "metadata": {},
   "source": [
    "## Random Entailment Generation Examples\n",
    "\n",
    "We can also generate entailments using randomly chosen trees for the decoding network structure. This doesn't  always work very well."
   ]
  },
  {
   "cell_type": "code",
   "execution_count": 12,
   "metadata": {
    "collapsed": false
   },
   "outputs": [
    {
     "name": "stdout",
     "output_type": "stream",
     "text": [
      "Sentence:  A man is about to play his guitar.\n",
      "Actual Entailment:  a man has a guitar\n",
      "Predicted Entailment:  a man playing a guitar\n",
      "Random Tree Entailment:  a man is playing up a guitar .\n",
      "\n",
      "Sentence:  Man in flower pattern shorts with a grill and newly lite charcoals.\n",
      "Actual Entailment:  A man stands by a grill.\n",
      "Predicted Entailment:  a man is with a grill .\n",
      "Random Tree Entailment:  a man man is with a grill .\n",
      "\n",
      "Sentence:  A child in colorful shorts is standing on a post in the street.\n",
      "Actual Entailment:  A child is standing on a post.\n",
      "Predicted Entailment:  a child is is on the street .\n",
      "Random Tree Entailment:  child is outside\n",
      "\n",
      "Sentence:  A man standing in front of an icy mountain.\n",
      "Actual Entailment:  There is an icy mountain.\n",
      "Predicted Entailment:  there standing a snowy man .\n",
      "Random Tree Entailment:  a man standing in a mountain\n",
      "\n",
      "Sentence:  A brown dog is running over an obstacle course with its mouth wide open.\n",
      "Actual Entailment:  The dog runs the course.\n",
      "Predicted Entailment:  a dog running a course .\n",
      "Random Tree Entailment:  a dog is running .\n",
      "\n"
     ]
    }
   ],
   "source": [
    "batch = random.sample(train_data, 5)\n",
    "\n",
    "for sample in batch:\n",
    "    model.encode(sample.sentence1)\n",
    "\n",
    "    print('Sentence: ', sample.sentence1)\n",
    "    print('Actual Entailment: ', sample.sentence2)\n",
    "    print('Predicted Entailment: ', model.decode(sample.sentence2))\n",
    "    print('Random Tree Entailment: ', model.decode())\n",
    "    print('')"
   ]
  },
  {
   "cell_type": "markdown",
   "metadata": {},
   "source": [
    "## Generating Entailment Chains (i.e. Inferential Roles)\n",
    "\n",
    "We can also generate entailment chains by re-encoding a generated sentence, and then generating new sentence from the subsequent encoding. This is kind of neat because it allows us to distill what the model has learned in a network of inferential relationships between sentences. Philosophers sometimes argue that the meaning of sentences is determined by it's role or location in such a network."
   ]
  },
  {
   "cell_type": "code",
   "execution_count": 13,
   "metadata": {
    "collapsed": false
   },
   "outputs": [
    {
     "name": "stdout",
     "output_type": "stream",
     "text": [
      "Sentence:  A black dog with a blue collar is jumping into the water.\n",
      "Predicted Entailment:  dog is is a water .\n",
      "Next Entailment:  a dog is is .\n",
      "\n",
      "Sentence:  Two police officers are sitting on motorcycles in the road.\n",
      "Predicted Entailment:  the officers are are .\n",
      "Next Entailment:  the officers are are the something\n",
      "\n",
      "Sentence:  Five people are playing in a gymnasium.\n",
      "Predicted Entailment:  people are in a gym in their four gym .\n",
      "Next Entailment:  there are people practicing gym .\n",
      "\n",
      "Sentence:  A man curls up in a blanket on the street.\n",
      "Predicted Entailment:  up man is\n",
      "Next Entailment:  a is in a something .\n",
      "\n"
     ]
    }
   ],
   "source": [
    "s1 = 'A black dog with a blue collar is jumping into the water.'\n",
    "s2 = 'Two police officers are sitting on motorcycles in the road.'\n",
    "s3 = 'Five people are playing in a gymnasium.'\n",
    "s4 = 'A man curls up in a blanket on the street.'\n",
    "\n",
    "sentences = [s1, s2, s3, s4]\n",
    "\n",
    "for sentence in sentences:\n",
    "    print('Sentence: ', sentence)\n",
    "    model.encode(sentence)\n",
    "    entailment = model.decode()\n",
    "    print('Predicted Entailment: ', entailment)\n",
    "    model.encode(entailment)\n",
    "    print('Next Entailment: ', model.decode())\n",
    "    print('')"
   ]
  },
  {
   "cell_type": "code",
   "execution_count": null,
   "metadata": {
    "collapsed": true
   },
   "outputs": [],
   "source": []
  },
  {
   "cell_type": "code",
   "execution_count": 14,
   "metadata": {
    "collapsed": false
   },
   "outputs": [
    {
     "name": "stdout",
     "output_type": "stream",
     "text": [
      "\n",
      "Sentence:  A shirtless man sleeps in his blue boat out on the open waters.\n",
      "Conditioning Context:  water\n",
      "Predicted Entailment:  a shirtless man waters in the blue water .\n"
     ]
    }
   ],
   "source": [
    "def condition(encoder, decoder, s1, s2, cond):\n",
    "    encoder.forward_pass(s1)\n",
    "    decoder.forward_pass(s2, encoder.get_root_embedding() + cond)\n",
    "\n",
    "    true = [node.lower_ for node in decoder.tree]\n",
    "    predicted = [node.pword for node in decoder.tree]\n",
    "    print('Predicted Entailment: ', ' '.join(predicted))\n",
    "      \n",
    "s1 = 'A shirtless man sleeps in his blue boat out on the open waters.'\n",
    "s2 = 'The red man is in the big boat.'\n",
    "cond_word = 'water'\n",
    "cond = encoder.vectors[cond_word]\n",
    "\n",
    "print('')\n",
    "print('Sentence: ', s1)\n",
    "print('Conditioning Context: ', cond_word)\n",
    "\n",
    "encoder.forward_pass('')\n",
    "condition(encoder, decoder, s1, s2, cond)"
   ]
  },
  {
   "cell_type": "markdown",
   "metadata": {},
   "source": [
    "## Substitional Analysis\n",
    "\n",
    "Finally, it is also possible to examine the effect a given word or phrase has on entailment generation via substitutions. Essentially, this involves looking at the difference made to the most likely entailment when a given word or phrase in the input sentence is replaced with another word or phrase."
   ]
  },
  {
   "cell_type": "code",
   "execution_count": 15,
   "metadata": {
    "collapsed": false
   },
   "outputs": [
    {
     "name": "stdout",
     "output_type": "stream",
     "text": [
      "Sentence:  A shirtless man sleeps in his blue boat out on the open waters.\n",
      "Predicted Entailment:  a man is in his boat\n",
      "\n",
      "Sentence:  A man in a beige shirt is sleeping in a car.\n",
      "Predicted Entailment:  a man sleeping in his car\n",
      "\n",
      "Sentence:  A woman in a beige shirt is sleeping in a car.\n",
      "Predicted Entailment:  a woman sleeping in her car\n",
      "\n",
      "Sentence:  A boy in a beige shirt is sleeping in a car.\n",
      "Predicted Entailment:  a boy sleeping asleep\n",
      "\n",
      "Sentence:  A woman in a beige shirt is sleeping in a car.\n",
      "Predicted Entailment:  a woman sleeping asleep\n",
      "\n",
      "Sentence:  A man in a beige shirt is driving in a car.\n",
      "Predicted Entailment:  a man is driving a car\n",
      "\n",
      "Sentence:  A person in a beige shirt is selling her car.\n",
      "Predicted Entailment:  a person is selling a car\n",
      "\n",
      "Sentence:  A boy in a red shirt is waiting in a store.\n",
      "Predicted Entailment:  a boy wearing a shirt is indoors\n",
      "\n",
      "Sentence:  Some men in red shirts are waiting in a store.\n",
      "Predicted Entailment:  the men are in a store\n",
      "\n",
      "Sentence:  Many women in red shirts are waiting in a store.\n",
      "Predicted Entailment:  the women are in a store\n",
      "\n",
      "Sentence:  A boy and a girl are waiting in a store.\n",
      "Predicted Entailment:  two boy are indoors\n",
      "\n",
      "Sentence:  A boy and a girl are waiting in a playground.\n",
      "Predicted Entailment:  two boy are outside\n",
      "\n",
      "Sentence:  A boy in a red shirt is sleeping in a car.\n",
      "Predicted Entailment:  a boy sleeping not indoors\n",
      "\n",
      "Sentence:  A boy in a red shirt is waiting in a store.\n",
      "Predicted Entailment:  a boy is not indoors\n",
      "\n"
     ]
    }
   ],
   "source": [
    "s2 = 'the dog is on her phone'\n",
    "s3 = 'the dog is outside'\n",
    "s4 = 'the dog is selling the bone'\n",
    "s5 = 'a dog wearing some clothes is indoors'\n",
    "s6 = 'a dog are inside a car'\n",
    "s7 = 'the boy is red'\n",
    "s8 = 'three people are indoors'\n",
    "s9 = 'a boy is not indoors'\n",
    "\n",
    "def substitution(model, sentence1, sentence2):\n",
    "    model.encode(sentence1)\n",
    "\n",
    "    print('Sentence: ', sentence1)\n",
    "    print('Predicted Entailment: ', model.decode(sentence2))\n",
    "    print('')    \n",
    "\n",
    "sentence = 'A girl in a beige shirt is sleeping in a car.'\n",
    "substitution(model, s1, s2)\n",
    "\n",
    "s1 = 'A man in a beige shirt is sleeping in a car.'\n",
    "substitution(model, s1, s2)\n",
    "\n",
    "s1 = 'A woman in a beige shirt is sleeping in a car.'\n",
    "substitution(model, s1, s2)\n",
    "\n",
    "s1 = 'A boy in a beige shirt is sleeping in a car.'\n",
    "substitution(model, s1, s3) \n",
    "\n",
    "s1 = 'A woman in a beige shirt is sleeping in a car.'\n",
    "substitution(model, s1, s3)\n",
    "\n",
    "s1 = 'A man in a beige shirt is driving in a car.'\n",
    "substitution(model, s1, s4)\n",
    "\n",
    "s1 = 'A person in a beige shirt is selling her car.'\n",
    "substitution(model, s1, s4)\n",
    "\n",
    "s1 = 'A boy in a red shirt is waiting in a store.'\n",
    "substitution(model, s1, s5)\n",
    "\n",
    "s1 = 'Some men in red shirts are waiting in a store.'\n",
    "substitution(model, s1, s6)\n",
    "\n",
    "s1 = 'Many women in red shirts are waiting in a store.'\n",
    "substitution(model, s1, s6)\n",
    "\n",
    "s1 = 'A boy and a girl are waiting in a store.'\n",
    "substitution(model, s1, s8)\n",
    "\n",
    "s1 = 'A boy and a girl are waiting in a playground.'\n",
    "substitution(model, s1, s8)\n",
    "\n",
    "s1 = 'A boy in a red shirt is sleeping in a car.'\n",
    "substitution(model, s1, s9)\n",
    "\n",
    "s1 = 'A boy in a red shirt is waiting in a store.'\n",
    "substitution(model, s1, s9)"
   ]
  },
  {
   "cell_type": "code",
   "execution_count": 16,
   "metadata": {
    "collapsed": false
   },
   "outputs": [
    {
     "name": "stdout",
     "output_type": "stream",
     "text": [
      "Sentence:  A fisherman using a cellphone on a boat.\n",
      "Predicted Entailment:  a fisherman is on a phone\n",
      "\n",
      "Sentence:  A Man is eating food next to a child on a bench.\n",
      "Predicted Entailment:  a man is on a bench\n",
      "\n",
      "Sentence:  A shirtless man skateboards on a ledge.\n",
      "Predicted Entailment:  a man is on a skateboard\n",
      "\n",
      "Sentence:  A man wearing a hat and boots is digging for something in the snow.\n",
      "Predicted Entailment:  a man is in a snow\n",
      "\n",
      "Sentence:  A man is on a boat.\n",
      "Predicted Entailment:  a man is outside\n",
      "\n",
      "Sentence:  A man is on a bench.\n",
      "Predicted Entailment:  a man is outside\n",
      "\n",
      "Sentence:  A man is on a skateboard.\n",
      "Predicted Entailment:  a man is outside\n",
      "\n",
      "Sentence:  A man is in the snow.\n",
      "Predicted Entailment:  a man is outside\n",
      "\n"
     ]
    }
   ],
   "source": [
    "s1 = 'A fisherman using a cellphone on a boat.'\n",
    "s2 = 'A man is on the street'\n",
    "substitution(model, s1, s2)\n",
    "\n",
    "s1 = 'A Man is eating food next to a child on a bench.'\n",
    "s2 = 'A man is on the street'\n",
    "substitution(model, s1, s2)\n",
    "\n",
    "s1 = 'A shirtless man skateboards on a ledge.'\n",
    "s2 = 'A man is on the street'\n",
    "substitution(model, s1, s2)\n",
    "\n",
    "s1 = 'A man wearing a hat and boots is digging for something in the snow.'\n",
    "s2 = 'A man is on the street'\n",
    "substitution(model, s1, s2)\n",
    "\n",
    "s1 = 'A man is on a boat.'\n",
    "s2 = 'A man is outside'\n",
    "substitution(model, s1, s2)\n",
    "\n",
    "s1 = 'A man is on a bench.'\n",
    "s2 = 'A man is outside'\n",
    "substitution(model, s1, s2)\n",
    "\n",
    "s1 = 'A man is on a skateboard.'\n",
    "s2 = 'A man is outside'\n",
    "substitution(model, s1, s2)\n",
    "\n",
    "s1 = 'A man is in the snow.'\n",
    "s2 = 'A man is outside'\n",
    "substitution(model, s1, s2)\n"
   ]
  },
  {
   "cell_type": "code",
   "execution_count": 17,
   "metadata": {
    "collapsed": false
   },
   "outputs": [
    {
     "name": "stdout",
     "output_type": "stream",
     "text": [
      "Sentence:  Some kids are wrestling on an inflatable raft.\n",
      "Predicted Entailment:  some kids are on a inflatable .\n",
      "\n",
      "Sentence:  Some kids are wrestling on an inflatable raft.\n",
      "Predicted Entailment:  some kids are outside .\n",
      "\n",
      "Sentence:  Some kids are wrestling on an inflatable raft.\n",
      "Predicted Entailment:  some kids are outside on a inflatable .\n",
      "\n",
      "Sentence:  Some kids are wrestling on an inflatable raft.\n",
      "Predicted Entailment:  some kids are on a inflatable inflatable .\n",
      "\n",
      "Sentence:  Some kids are wrestling on an inflatable raft.\n",
      "Predicted Entailment:  several kids are on a inflatable .\n",
      "\n",
      "Sentence:  Some kids are wrestling on an inflatable raft.\n",
      "Predicted Entailment:  several kids are around on a inflatable .\n",
      "\n",
      "Sentence:  Some kids are wrestling on an inflatable raft.\n",
      "Predicted Entailment:  some kids are on a inflatable inflatable .\n",
      "\n",
      "Sentence:  Several kids are all on a raft.\n",
      "Predicted Entailment:  some kids are on a several raft .\n",
      "\n",
      "Sentence:  Several kids are all on a raft.\n",
      "Predicted Entailment:  kids are on two raft .\n",
      "\n",
      "Sentence:  Several kids are all on a raft.\n",
      "Predicted Entailment:  some are playing on a raft .\n",
      "\n",
      "Sentence:  Several kids are all on a raft.\n",
      "Predicted Entailment:  some kids are on a raft .\n",
      "\n"
     ]
    }
   ],
   "source": [
    "s1 = 'Some kids are wrestling on an inflatable raft.'\n",
    "s2 = 'the boy is on the beach.'\n",
    "substitution(model, s1, s2)\n",
    "\n",
    "s2 = 'the kids are outside.'\n",
    "substitution(model, s1, s2)\n",
    "\n",
    "s2 = 'Some kids wrestle outside in the sun.'\n",
    "substitution(model, s1, s2)\n",
    "\n",
    "s2 = 'The kids are with an inflatable raft.'\n",
    "substitution(model, s1, s2)\n",
    "\n",
    "s2 = 'young kids wrestle with each other.'\n",
    "substitution(model, s1, s2)\n",
    "\n",
    "s2 = 'old children play all over the water.'\n",
    "substitution(model, s1, s2)\n",
    "\n",
    "s2 = 'the kids wrestle with an fierce determination.'\n",
    "substitution(model, s1, s2)\n",
    "\n",
    "s1 = 'Several kids are all on a raft.'\n",
    "substitution(model, s1, s2)\n",
    "\n",
    "s2 = 'They raft on three kids.'\n",
    "substitution(model, s1, s2)\n",
    "\n",
    "s2 = 'a rafts used in the match.'\n",
    "substitution(model, s1, s2)\n",
    "\n",
    "s2 = 'the kids are in the water.'\n",
    "substitution(model, s1, s2)"
   ]
  },
  {
   "cell_type": "code",
   "execution_count": 18,
   "metadata": {
    "collapsed": false
   },
   "outputs": [
    {
     "name": "stdout",
     "output_type": "stream",
     "text": [
      "Sentence:  A shirtless man sleeps in his blue boat out on the open waters.\n",
      "Conditioning Context:  water\n",
      "Predicted Entailment:  a shirtless man waters in the blue water .\n",
      "\n",
      "Sentence:  A shirtless man sleeps in his blue boat out on the open waters.\n",
      "Conditioning Context:  blue\n",
      "Predicted Entailment:  a shirtless man is in a blue boat .\n",
      "\n",
      "Sentence:  A shirtless man sleeps in his blue boat out on the open waters.\n",
      "Conditioning Context:  fishing\n",
      "Predicted Entailment:  a shirtless man fishing in a blue boat .\n",
      "\n",
      "Sentence:  A shirtless man sleeps in his blue boat out on the open waters.\n",
      "Conditioning Context:  sleep\n",
      "Predicted Entailment:  a shirtless man sleeps in the blue water .\n",
      "\n",
      "Sentence:  A shirtless man sleeps in his blue boat out on the open waters.\n",
      "Conditioning Context:  boat\n",
      "Predicted Entailment:  a shirtless boat boat in the boat boat .\n",
      "\n",
      "Sentence:  A mother and daughter walk along the side of a bridge.\n",
      "Conditioning Context:  How many people are walking?\n",
      "Predicted Entailment:  two people are walking .\n",
      "\n",
      "Sentence:  A mother and daughter walk along the side of a bridge.\n",
      "Conditioning Context:  Are the mother and daughter walking?\n",
      "Predicted Entailment:  a mother and daughter walking together .\n",
      "\n",
      "Sentence:  A mother and daughter walk along the side of a bridge.\n",
      "Conditioning Context:  What is the bridge over?\n",
      "Predicted Entailment:  a people is on a bridge .\n",
      "\n"
     ]
    }
   ],
   "source": [
    "def condition(model, s1, s2, condition, sen=None):\n",
    "    if sen: \n",
    "        model.encoder.forward_pass(condition)\n",
    "        cond = model.encoder.get_root_embedding()\n",
    "    else:\n",
    "        cond = model.encoder.vectors[condition]\n",
    "    \n",
    "    model.encode(s1)\n",
    "    model.decoder.forward_pass(s2, model.encoder.get_root_embedding() + cond)\n",
    "\n",
    "    predicted = [node.pword for node in decoder.tree]\n",
    "    print('Sentence: ', s1)\n",
    "    print('Conditioning Context: ', condition)\n",
    "    print('Predicted Entailment: ', ' '.join(predicted))\n",
    "    print('')\n",
    "      \n",
    "s1 = 'A shirtless man sleeps in his blue boat out on the open waters.'\n",
    "s2 = 'The red man is in the big boat.'\n",
    "cond_word = 'water'\n",
    "condition(model, s1, s2, cond_word)\n",
    "        \n",
    "s1 = 'A shirtless man sleeps in his blue boat out on the open waters.'\n",
    "s2 = 'The red man is in the big boat.'\n",
    "cond_word = 'blue'\n",
    "condition(model, s1, s2, cond_word)\n",
    "\n",
    "s1 = 'A shirtless man sleeps in his blue boat out on the open waters.'\n",
    "s2 = 'The red man is in the big boat.'\n",
    "cond_word = 'fishing'\n",
    "condition(model, s1, s2, cond_word)\n",
    "\n",
    "        \n",
    "s1 = 'A shirtless man sleeps in his blue boat out on the open waters.'\n",
    "s2 = 'The red man is in the big boat.'\n",
    "cond_word = 'sleep'\n",
    "condition(model, s1, s2, cond_word)\n",
    "\n",
    "s1 = 'A shirtless man sleeps in his blue boat out on the open waters.'\n",
    "s2 = 'The red man is in the big boat.'\n",
    "cond_word = 'boat'\n",
    "condition(model, s1, s2, cond_word)\n",
    "\n",
    "\n",
    "s1 = 'A mother and daughter walk along the side of a bridge.'\n",
    "s2 = 'Two people are walking.'\n",
    "cond_sen = 'How many people are walking?'\n",
    "condition(model, s1, s2, cond_sen, sen=True)\n",
    "\n",
    "s1 = 'A mother and daughter walk along the side of a bridge.'\n",
    "s2 = 'The mother and daughter walk together.'\n",
    "cond_sen = 'Are the mother and daughter walking?'\n",
    "condition(model, s1, s2, cond_sen, sen=True)\n",
    "\n",
    "s1 = 'A mother and daughter walk along the side of a bridge.'\n",
    "s2 = 'The bridge is over a river.'\n",
    "cond_sen = 'What is the bridge over?'\n",
    "condition(model, s1, s2, cond_sen, sen=True)"
   ]
  },
  {
   "cell_type": "code",
   "execution_count": null,
   "metadata": {
    "collapsed": true
   },
   "outputs": [],
   "source": []
  },
  {
   "cell_type": "code",
   "execution_count": null,
   "metadata": {
    "collapsed": true
   },
   "outputs": [],
   "source": []
  }
 ],
 "metadata": {
  "anaconda-cloud": {},
  "kernelspec": {
   "display_name": "Python [default]",
   "language": "python",
   "name": "python3"
  },
  "language_info": {
   "codemirror_mode": {
    "name": "ipython",
    "version": 3
   },
   "file_extension": ".py",
   "mimetype": "text/x-python",
   "name": "python",
   "nbconvert_exporter": "python",
   "pygments_lexer": "ipython3",
   "version": "3.5.2"
  }
 },
 "nbformat": 4,
 "nbformat_minor": 0
}
