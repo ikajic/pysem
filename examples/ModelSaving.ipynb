{
 "cells": [
  {
   "cell_type": "code",
   "execution_count": 1,
   "metadata": {
    "collapsed": true
   },
   "outputs": [],
   "source": [
    "import platform\n",
    "import random\n",
    "import time\n",
    "import sys\n",
    "import pickle\n",
    "import numpy as np\n",
    "\n",
    "from pysem.corpora import SNLI\n",
    "from pysem.networks import DependencyNetwork\n",
    "from pysem.utils.ml import MultiLayerPerceptron\n",
    "from pysem.utils.snli import CompositeModel\n",
    "from itertools import islice\n",
    "\n",
    "class PickleDummy(object):\n",
    "\n",
    "    def __init__(self):\n",
    "        pass\n",
    "\n",
    "    def __call__(self, x):\n",
    "        return x\n",
    "\n",
    "snli = SNLI('/Users/peterblouw/corpora/snli_1.0/')\n",
    "snli.load_vocab('snli_words.pickle')\n",
    "\n",
    "dim = 300\n",
    "pretrained = 'pretrained_snli_embeddings.pickle'\n",
    "\n"
   ]
  },
  {
   "cell_type": "code",
   "execution_count": 2,
   "metadata": {
    "collapsed": false
   },
   "outputs": [],
   "source": [
    "encoder = DependencyNetwork(dim=dim, vocab=snli.vocab, pretrained=pretrained)\n",
    "classifier = MultiLayerPerceptron(di=2*dim, dh=dim, do=3)\n",
    "\n",
    "model = CompositeModel(snli, encoder, classifier)\n"
   ]
  },
  {
   "cell_type": "code",
   "execution_count": 3,
   "metadata": {
    "collapsed": false
   },
   "outputs": [
    {
     "name": "stdout",
     "output_type": "stream",
     "text": [
      "biases <class 'collections.defaultdict'>\n",
      "wgrads <class 'collections.defaultdict'>\n",
      "vocab <class 'list'>\n",
      "vectors <class 'dict'>\n",
      "bgrads <class 'collections.defaultdict'>\n",
      "dwm <class 'numpy.ndarray'>\n",
      "tree <class 'list'>\n",
      "wm <class 'numpy.ndarray'>\n",
      "rate <class 'float'>\n",
      "weights <class 'collections.defaultdict'>\n",
      "xgrads <class 'collections.defaultdict'>\n",
      "dim <class 'int'>\n"
     ]
    }
   ],
   "source": [
    "model.train(iters=1, bsize=1, rate=0.005, log_interval=2, schedule=12000)\n",
    "\n",
    "for item in model.encoder.__dict__.keys():\n",
    "    print(item, type(model.encoder.__dict__[item]))"
   ]
  },
  {
   "cell_type": "code",
   "execution_count": 4,
   "metadata": {
    "collapsed": false
   },
   "outputs": [
    {
     "name": "stdout",
     "output_type": "stream",
     "text": [
      "Testing Model Loading\n",
      "0.3291938110749186\n"
     ]
    }
   ],
   "source": [
    "with open('classifier.pickle', 'wb') as pfile:\n",
    "\tpickle.dump(model.classifier, pfile)\n",
    "\n",
    "model.encoder.save('encoder.pickle')\n",
    "\n",
    "\n",
    "test_encoder = DependencyNetwork(dim=20, vocab=['test'])\n",
    "test_encoder.load('encoder.pickle')\n",
    "\n",
    "# with open('data.pickle', 'wb') as pfile:\n",
    "# \ttest_data = pickle.load(pfile)\n",
    "    \n",
    "with open('classifier.pickle', 'rb') as pfile:\n",
    "\ttest_classifier = pickle.load(pfile)\n",
    "    \n",
    "test_model = CompositeModel(snli, test_encoder, test_classifier)\n",
    "\n",
    "    \n",
    "print('Testing Model Loading')\n",
    "print(test_model.dnn_accuracy(test_model.test_data))"
   ]
  },
  {
   "cell_type": "code",
   "execution_count": 5,
   "metadata": {
    "collapsed": false
   },
   "outputs": [
    {
     "name": "stdout",
     "output_type": "stream",
     "text": [
      "0.3291938110749186\n"
     ]
    }
   ],
   "source": [
    "\n",
    "\n",
    "print(model.dnn_accuracy(model.test_data))\n",
    "\n",
    "\n",
    "    \n"
   ]
  },
  {
   "cell_type": "code",
   "execution_count": null,
   "metadata": {
    "collapsed": true
   },
   "outputs": [],
   "source": []
  }
 ],
 "metadata": {
  "kernelspec": {
   "display_name": "Python 3",
   "language": "python",
   "name": "python3"
  },
  "language_info": {
   "codemirror_mode": {
    "name": "ipython",
    "version": 3
   },
   "file_extension": ".py",
   "mimetype": "text/x-python",
   "name": "python",
   "nbconvert_exporter": "python",
   "pygments_lexer": "ipython3",
   "version": "3.5.2"
  }
 },
 "nbformat": 4,
 "nbformat_minor": 0
}
